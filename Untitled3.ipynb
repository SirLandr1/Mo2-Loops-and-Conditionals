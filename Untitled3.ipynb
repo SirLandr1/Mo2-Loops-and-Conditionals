{
  "metadata": {
    "language_info": {
      "codemirror_mode": {
        "name": "python",
        "version": 3
      },
      "file_extension": ".py",
      "mimetype": "text/x-python",
      "name": "python",
      "nbconvert_exporter": "python",
      "pygments_lexer": "ipython3",
      "version": "3.8"
    },
    "kernelspec": {
      "name": "python",
      "display_name": "Python (Pyodide)",
      "language": "python"
    }
  },
  "nbformat_minor": 4,
  "nbformat": 4,
  "cells": [
    {
      "cell_type": "code",
      "source": "secret = 7\nguess = 5\nif guess < secret:\n    print('too low')\nelif guess > secret:\n    print('too high')\nelse:\n    print('just right')",
      "metadata": {
        "trusted": true
      },
      "execution_count": 1,
      "outputs": [
        {
          "name": "stdout",
          "text": "too low\n",
          "output_type": "stream"
        }
      ]
    },
    {
      "cell_type": "code",
      "source": ">>> small = False\n>>> green = True\n>>> if small:\n...     if green:\n...         print(\"pea\")\n...     else:\n...         print(\"cherry\")\n... else:\n...     if green:\n...         print(\"watermelon\")\n...     else:\n...         print(\"pumpkin\")\n...",
      "metadata": {
        "trusted": true
      },
      "execution_count": 7,
      "outputs": [
        {
          "name": "stdout",
          "text": "watermelon\n",
          "output_type": "stream"
        }
      ]
    },
    {
      "cell_type": "code",
      "source": "for value in [3, 2, 1, 0]:\n    print(value)",
      "metadata": {
        "trusted": true
      },
      "execution_count": 8,
      "outputs": [
        {
          "name": "stdout",
          "text": "3\n2\n1\n0\n",
          "output_type": "stream"
        }
      ]
    },
    {
      "cell_type": "code",
      "source": "guess_me = 7\nnumber = 1\nwhile True:\n    if number < guess_me:\n        print('too low')\n    elif number == guess_me:\n        print('found it!')\n        break\n    elif number > guess_me:\n        print('oops')\n        break\n    number += 1",
      "metadata": {
        "trusted": true
      },
      "execution_count": 9,
      "outputs": [
        {
          "name": "stdout",
          "text": "too low\ntoo low\ntoo low\ntoo low\ntoo low\ntoo low\nfound it!\n",
          "output_type": "stream"
        }
      ]
    },
    {
      "cell_type": "code",
      "source": ">>> guess_me = 5\n>>> for number in range(10):\n...     if number < guess_me:\n...         print(\"too low\")\n...     elif number == guess_me:\n...         print(\"found it!\")\n...         break\n...     else:\n...         print(\"oops\")\n...         break",
      "metadata": {
        "trusted": true
      },
      "execution_count": 12,
      "outputs": [
        {
          "name": "stdout",
          "text": "too low\ntoo low\ntoo low\ntoo low\ntoo low\nfound it!\n",
          "output_type": "stream"
        }
      ]
    }
  ]
}